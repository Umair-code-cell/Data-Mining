{
 "cells": [
  {
   "cell_type": "code",
   "execution_count": null,
   "metadata": {
    "id": "BnvEctx5SzJc"
   },
   "outputs": [],
   "source": [
    "import math \n",
    "import numpy as np \n",
    "import pandas as pd \n",
    "import scipy.stats as stats \n",
    "import matplotlib.pyplot as plt \n",
    "import seaborn as sns\n",
    "from collections import defaultdict \n",
    "from scipy.stats.stats import pearsonr"
   ]
  },
  {
   "cell_type": "code",
   "execution_count": null,
   "metadata": {
    "id": "7kWz-XNCSzJd"
   },
   "outputs": [],
   "source": [
    "df=pd.read_csv(\"DataCleaned.csv\")"
   ]
  },
  {
   "cell_type": "code",
   "execution_count": null,
   "metadata": {
    "id": "IkcVKWoPSzJd",
    "outputId": "5999759c-3611-4fde-e2d8-0116a4ae23d8",
    "scrolled": true
   },
   "outputs": [
    {
     "data": {
      "text/plain": [
       "1.0    27469\n",
       "2.0    25800\n",
       "3.0      562\n",
       "0.0        3\n",
       "Name: WheelTypeID, dtype: int64"
      ]
     },
     "execution_count": 3,
     "metadata": {
      "tags": []
     },
     "output_type": "execute_result"
    }
   ],
   "source": [
    "df[\"WheelTypeID\"].value_counts()"
   ]
  },
  {
   "cell_type": "code",
   "execution_count": null,
   "metadata": {
    "id": "vX-3KZanSzJe",
    "outputId": "1991c647-33f6-491f-91ce-e89afed27b2d"
   },
   "outputs": [
    {
     "data": {
      "text/html": [
       "<div>\n",
       "<style scoped>\n",
       "    .dataframe tbody tr th:only-of-type {\n",
       "        vertical-align: middle;\n",
       "    }\n",
       "\n",
       "    .dataframe tbody tr th {\n",
       "        vertical-align: top;\n",
       "    }\n",
       "\n",
       "    .dataframe thead th {\n",
       "        text-align: right;\n",
       "    }\n",
       "</style>\n",
       "<table border=\"1\" class=\"dataframe\">\n",
       "  <thead>\n",
       "    <tr style=\"text-align: right;\">\n",
       "      <th></th>\n",
       "      <th>Unnamed: 0</th>\n",
       "      <th>IsBadBuy</th>\n",
       "      <th>Auction</th>\n",
       "      <th>VehYear</th>\n",
       "      <th>VehicleAge</th>\n",
       "      <th>Make</th>\n",
       "      <th>Trim</th>\n",
       "      <th>Color</th>\n",
       "      <th>Transmission</th>\n",
       "      <th>WheelTypeID</th>\n",
       "      <th>VehOdo</th>\n",
       "      <th>Nationality</th>\n",
       "      <th>Size</th>\n",
       "      <th>MMRAcquisitionAuctionAveragePrice</th>\n",
       "      <th>MMRCurrentAuctionAveragePrice</th>\n",
       "      <th>VNST</th>\n",
       "      <th>VehBCost</th>\n",
       "      <th>IsOnlineSale</th>\n",
       "      <th>WarrantyCost</th>\n",
       "      <th>RoundVehBCost</th>\n",
       "    </tr>\n",
       "  </thead>\n",
       "  <tbody>\n",
       "    <tr>\n",
       "      <td>3774</td>\n",
       "      <td>3897</td>\n",
       "      <td>0</td>\n",
       "      <td>3</td>\n",
       "      <td>2008</td>\n",
       "      <td>2</td>\n",
       "      <td>DODGE</td>\n",
       "      <td>SXT</td>\n",
       "      <td>GREY</td>\n",
       "      <td>2</td>\n",
       "      <td>0.0</td>\n",
       "      <td>91501</td>\n",
       "      <td>1</td>\n",
       "      <td>4</td>\n",
       "      <td>12714.0</td>\n",
       "      <td>9824.0</td>\n",
       "      <td>AL</td>\n",
       "      <td>8600.0</td>\n",
       "      <td>0</td>\n",
       "      <td>1630</td>\n",
       "      <td>8600.0</td>\n",
       "    </tr>\n",
       "    <tr>\n",
       "      <td>22593</td>\n",
       "      <td>23432</td>\n",
       "      <td>0</td>\n",
       "      <td>3</td>\n",
       "      <td>2006</td>\n",
       "      <td>4</td>\n",
       "      <td>PONTIAC</td>\n",
       "      <td>Bas</td>\n",
       "      <td>BEIGE</td>\n",
       "      <td>2</td>\n",
       "      <td>0.0</td>\n",
       "      <td>78098</td>\n",
       "      <td>1</td>\n",
       "      <td>1</td>\n",
       "      <td>5529.0</td>\n",
       "      <td>6700.0</td>\n",
       "      <td>MI</td>\n",
       "      <td>7125.0</td>\n",
       "      <td>1</td>\n",
       "      <td>1272</td>\n",
       "      <td>7100.0</td>\n",
       "    </tr>\n",
       "    <tr>\n",
       "      <td>22983</td>\n",
       "      <td>23831</td>\n",
       "      <td>1</td>\n",
       "      <td>2</td>\n",
       "      <td>2001</td>\n",
       "      <td>9</td>\n",
       "      <td>CHRYSLER</td>\n",
       "      <td>Bas</td>\n",
       "      <td>SILVER</td>\n",
       "      <td>2</td>\n",
       "      <td>0.0</td>\n",
       "      <td>74875</td>\n",
       "      <td>1</td>\n",
       "      <td>1</td>\n",
       "      <td>2692.0</td>\n",
       "      <td>2535.0</td>\n",
       "      <td>SC</td>\n",
       "      <td>5170.0</td>\n",
       "      <td>0</td>\n",
       "      <td>1689</td>\n",
       "      <td>5200.0</td>\n",
       "    </tr>\n",
       "  </tbody>\n",
       "</table>\n",
       "</div>"
      ],
      "text/plain": [
       "       Unnamed: 0  IsBadBuy  Auction  VehYear  VehicleAge      Make Trim  \\\n",
       "3774         3897         0        3     2008           2     DODGE  SXT   \n",
       "22593       23432         0        3     2006           4   PONTIAC  Bas   \n",
       "22983       23831         1        2     2001           9  CHRYSLER  Bas   \n",
       "\n",
       "        Color  Transmission  WheelTypeID  VehOdo  Nationality  Size  \\\n",
       "3774     GREY             2          0.0   91501            1     4   \n",
       "22593   BEIGE             2          0.0   78098            1     1   \n",
       "22983  SILVER             2          0.0   74875            1     1   \n",
       "\n",
       "       MMRAcquisitionAuctionAveragePrice  MMRCurrentAuctionAveragePrice VNST  \\\n",
       "3774                             12714.0                         9824.0   AL   \n",
       "22593                             5529.0                         6700.0   MI   \n",
       "22983                             2692.0                         2535.0   SC   \n",
       "\n",
       "       VehBCost  IsOnlineSale  WarrantyCost  RoundVehBCost  \n",
       "3774     8600.0             0          1630         8600.0  \n",
       "22593    7125.0             1          1272         7100.0  \n",
       "22983    5170.0             0          1689         5200.0  "
      ]
     },
     "execution_count": 4,
     "metadata": {
      "tags": []
     },
     "output_type": "execute_result"
    }
   ],
   "source": [
    "df[df[\"WheelTypeID\"]==0.0]"
   ]
  },
  {
   "cell_type": "code",
   "execution_count": null,
   "metadata": {
    "id": "jOQBQFvcSzJe",
    "outputId": "e157b88d-d091-4612-b1a7-aab932d8934e"
   },
   "outputs": [
    {
     "data": {
      "text/plain": [
       "2464"
      ]
     },
     "execution_count": 5,
     "metadata": {
      "tags": []
     },
     "output_type": "execute_result"
    }
   ],
   "source": [
    "df[\"WheelTypeID\"].isnull().sum()"
   ]
  },
  {
   "cell_type": "code",
   "execution_count": null,
   "metadata": {
    "id": "EkzH4IR1SzJf"
   },
   "outputs": [],
   "source": [
    "for index, row in df.iterrows():\n",
    "    if row[\"WheelTypeID\"]!=1.0 and row[\"WheelTypeID\"]!=2.0 and row[\"WheelTypeID\"]!=3.0 and row[\"WheelTypeID\"]!=0.0:\n",
    "        if row[\"Make\"]==\"FORD\":\n",
    "            df.loc[index, \"WheelTypeID\"] = 1.0"
   ]
  },
  {
   "cell_type": "code",
   "execution_count": null,
   "metadata": {
    "id": "42RV1dfvSzJf",
    "outputId": "6bcab773-6521-4bc1-b8fd-897dbcc315ce"
   },
   "outputs": [
    {
     "data": {
      "text/plain": [
       "1.0    27879\n",
       "2.0    25800\n",
       "3.0      562\n",
       "0.0        3\n",
       "Name: WheelTypeID, dtype: int64"
      ]
     },
     "execution_count": 7,
     "metadata": {
      "tags": []
     },
     "output_type": "execute_result"
    }
   ],
   "source": [
    "df[\"WheelTypeID\"].value_counts()"
   ]
  },
  {
   "cell_type": "code",
   "execution_count": null,
   "metadata": {
    "id": "ydgOUZIQSzJf"
   },
   "outputs": [],
   "source": [
    "for index, row in df.iterrows():\n",
    "    if row[\"WheelTypeID\"]!=1.0 and row[\"WheelTypeID\"]!=2.0 and row[\"WheelTypeID\"]!=3.0 and row[\"WheelTypeID\"]!=0.0:\n",
    "        if row[\"VehYear\"]==2008:\n",
    "            df.loc[index, \"WheelTypeID\"] = 2.0"
   ]
  },
  {
   "cell_type": "code",
   "execution_count": null,
   "metadata": {
    "id": "6LLgoYxESzJf",
    "outputId": "790916c3-541d-499e-a51d-f558fa6740d6"
   },
   "outputs": [
    {
     "data": {
      "text/plain": [
       "1.0    27879\n",
       "2.0    25981\n",
       "3.0      562\n",
       "0.0        3\n",
       "Name: WheelTypeID, dtype: int64"
      ]
     },
     "execution_count": 9,
     "metadata": {
      "tags": []
     },
     "output_type": "execute_result"
    }
   ],
   "source": [
    "df[\"WheelTypeID\"].value_counts()"
   ]
  },
  {
   "cell_type": "code",
   "execution_count": null,
   "metadata": {
    "id": "m2f5rkLvSzJf"
   },
   "outputs": [],
   "source": [
    "for index, row in df.iterrows():\n",
    "    if row[\"WheelTypeID\"]!=1.0 and row[\"WheelTypeID\"]!=2.0 and row[\"WheelTypeID\"]!=3.0 and row[\"WheelTypeID\"]!=0.0:\n",
    "        if row[\"VehYear\"]==2009:\n",
    "            df.loc[index, \"WheelTypeID\"] = 2.0"
   ]
  },
  {
   "cell_type": "code",
   "execution_count": null,
   "metadata": {
    "id": "c1xHcmTOSzJg",
    "outputId": "ceebd9fc-7cc4-4419-c112-4d3095f2bec2"
   },
   "outputs": [
    {
     "data": {
      "text/plain": [
       "1.0    27879\n",
       "2.0    25999\n",
       "3.0      562\n",
       "0.0        3\n",
       "Name: WheelTypeID, dtype: int64"
      ]
     },
     "execution_count": 11,
     "metadata": {
      "tags": []
     },
     "output_type": "execute_result"
    }
   ],
   "source": [
    "df[\"WheelTypeID\"].value_counts()"
   ]
  },
  {
   "cell_type": "code",
   "execution_count": null,
   "metadata": {
    "id": "_Dr4kkG5SzJg"
   },
   "outputs": [],
   "source": [
    "for index, row in df.iterrows():\n",
    "    if row[\"WheelTypeID\"]!=1.0 and row[\"WheelTypeID\"]!=2.0 and row[\"WheelTypeID\"]!=3.0 and row[\"WheelTypeID\"]!=0.0:\n",
    "        if row[\"Size\"]==2:\n",
    "            df.loc[index, \"WheelTypeID\"] = 1.0"
   ]
  },
  {
   "cell_type": "code",
   "execution_count": null,
   "metadata": {
    "id": "_eNVVZcqSzJg",
    "outputId": "08df7642-4665-4849-abb0-92601e245cef"
   },
   "outputs": [
    {
     "data": {
      "text/plain": [
       "1.0    28154\n",
       "2.0    25999\n",
       "3.0      562\n",
       "0.0        3\n",
       "Name: WheelTypeID, dtype: int64"
      ]
     },
     "execution_count": 13,
     "metadata": {
      "tags": []
     },
     "output_type": "execute_result"
    }
   ],
   "source": [
    "df[\"WheelTypeID\"].value_counts()"
   ]
  },
  {
   "cell_type": "code",
   "execution_count": null,
   "metadata": {
    "id": "4L5DDcPfSzJg"
   },
   "outputs": [],
   "source": [
    "for index, row in df.iterrows():\n",
    "    if row[\"WheelTypeID\"]!=1.0 and row[\"WheelTypeID\"]!=2.0 and row[\"WheelTypeID\"]!=3.0 and row[\"WheelTypeID\"]!=0.0:\n",
    "        if row[\"VehYear\"]==2007 and row[\"Make\"]==\"CHEVROLET\":\n",
    "            df.loc[index, \"WheelTypeID\"] = 2.0"
   ]
  },
  {
   "cell_type": "code",
   "execution_count": null,
   "metadata": {
    "id": "MeGEw5d2SzJg",
    "outputId": "1b32e945-2125-4b7b-efe7-06c50fec4f68"
   },
   "outputs": [
    {
     "data": {
      "text/plain": [
       "1.0    28154\n",
       "2.0    26053\n",
       "3.0      562\n",
       "0.0        3\n",
       "Name: WheelTypeID, dtype: int64"
      ]
     },
     "execution_count": 15,
     "metadata": {
      "tags": []
     },
     "output_type": "execute_result"
    }
   ],
   "source": [
    "df[\"WheelTypeID\"].value_counts()"
   ]
  },
  {
   "cell_type": "code",
   "execution_count": null,
   "metadata": {
    "id": "6xiZFFdnSzJh",
    "outputId": "5fe6ef21-e72b-4c69-9d99-87bf3365a7cd"
   },
   "outputs": [
    {
     "data": {
      "text/plain": [
       "1772"
      ]
     },
     "execution_count": 16,
     "metadata": {
      "tags": []
     },
     "output_type": "execute_result"
    }
   ],
   "source": [
    "df[\"Trim\"].isnull().sum()"
   ]
  },
  {
   "cell_type": "code",
   "execution_count": null,
   "metadata": {
    "id": "ke9CvuxBSzJh"
   },
   "outputs": [],
   "source": [
    "for index, row in df.iterrows():\n",
    "    if row[\"Make\"]==\"PONTIAC\":\n",
    "            df.loc[index, \"Trim\"] = 2.0"
   ]
  },
  {
   "cell_type": "code",
   "execution_count": null,
   "metadata": {
    "id": "VCzcBkT1SzJh",
    "outputId": "6435fbc1-911b-4a4a-fe95-a1673622154d"
   },
   "outputs": [
    {
     "data": {
      "text/plain": [
       "1642"
      ]
     },
     "execution_count": 18,
     "metadata": {
      "tags": []
     },
     "output_type": "execute_result"
    }
   ],
   "source": [
    "df[\"Trim\"].isnull().sum()"
   ]
  },
  {
   "cell_type": "code",
   "execution_count": null,
   "metadata": {
    "id": "dAAbYg8ZSzJh"
   },
   "outputs": [],
   "source": [
    "for index, row in df.iterrows():\n",
    "    if row[\"Make\"]==\"CHRYSLER\" and row[\"WheelTypeID\"]==2.0:\n",
    "            df.loc[index, \"Trim\"] = 2.0\n"
   ]
  },
  {
   "cell_type": "code",
   "execution_count": null,
   "metadata": {
    "id": "G-JX8ybpSzJh",
    "outputId": "9b5aff82-6e12-4ce0-b714-c20b2223e62c"
   },
   "outputs": [
    {
     "data": {
      "text/plain": [
       "1639"
      ]
     },
     "execution_count": 20,
     "metadata": {
      "tags": []
     },
     "output_type": "execute_result"
    }
   ],
   "source": [
    "df[\"Trim\"].isnull().sum()"
   ]
  },
  {
   "cell_type": "code",
   "execution_count": null,
   "metadata": {
    "id": "DLbvEOyDSzJh"
   },
   "outputs": [],
   "source": [
    "df['WheelTypeID']=df['WheelTypeID'].fillna('?')\n",
    "df['Trim']=df['Trim'].fillna('XXX')"
   ]
  },
  {
   "cell_type": "code",
   "execution_count": null,
   "metadata": {
    "id": "WvQ00ECbSzJh"
   },
   "outputs": [],
   "source": [
    "df.to_csv(r'DataFinal.csv')"
   ]
  },
  {
   "cell_type": "code",
   "execution_count": null,
   "metadata": {
    "id": "j0jYnSdWSzJi"
   },
   "outputs": [],
   "source": []
  }
 ],
 "metadata": {
  "colab": {
   "name": "MissingValuesAssociation.ipynb",
   "provenance": []
  },
  "kernelspec": {
   "display_name": "Python 3 (ipykernel)",
   "language": "python",
   "name": "python3"
  },
  "language_info": {
   "codemirror_mode": {
    "name": "ipython",
    "version": 3
   },
   "file_extension": ".py",
   "mimetype": "text/x-python",
   "name": "python",
   "nbconvert_exporter": "python",
   "pygments_lexer": "ipython3",
   "version": "3.9.7"
  }
 },
 "nbformat": 4,
 "nbformat_minor": 1
}
