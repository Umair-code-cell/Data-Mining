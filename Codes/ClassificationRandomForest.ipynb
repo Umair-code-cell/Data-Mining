{
 "cells": [
  {
   "cell_type": "code",
   "execution_count": 1,
   "metadata": {},
   "outputs": [],
   "source": [
    "%matplotlib inline\n",
    "\n",
    "import numpy as np\n",
    "import pandas as pd\n",
    "import matplotlib.pyplot as plt\n",
    "\n",
    "from sklearn.tree import DecisionTreeClassifier\n",
    "from sklearn.model_selection import train_test_split\n",
    "from sklearn.tree import DecisionTreeClassifier\n",
    "from sklearn.model_selection import RandomizedSearchCV"
   ]
  },
  {
   "cell_type": "code",
   "execution_count": 2,
   "metadata": {},
   "outputs": [],
   "source": [
    "df=pd.read_csv(\"DataCleaned.csv\")\n",
    "df2=pd.read_csv(\"DataCleanedTest.csv\")"
   ]
  },
  {
   "cell_type": "code",
   "execution_count": 3,
   "metadata": {},
   "outputs": [
    {
     "data": {
      "text/html": [
       "<div>\n",
       "<style scoped>\n",
       "    .dataframe tbody tr th:only-of-type {\n",
       "        vertical-align: middle;\n",
       "    }\n",
       "\n",
       "    .dataframe tbody tr th {\n",
       "        vertical-align: top;\n",
       "    }\n",
       "\n",
       "    .dataframe thead th {\n",
       "        text-align: right;\n",
       "    }\n",
       "</style>\n",
       "<table border=\"1\" class=\"dataframe\">\n",
       "  <thead>\n",
       "    <tr style=\"text-align: right;\">\n",
       "      <th></th>\n",
       "      <th>IsBadBuy</th>\n",
       "      <th>Auction</th>\n",
       "      <th>VehYear</th>\n",
       "      <th>VehicleAge</th>\n",
       "      <th>Make</th>\n",
       "      <th>Trim</th>\n",
       "      <th>Color</th>\n",
       "      <th>Transmission</th>\n",
       "      <th>WheelTypeID</th>\n",
       "      <th>Nationality</th>\n",
       "      <th>Size</th>\n",
       "      <th>VNST</th>\n",
       "      <th>IsOnlineSale</th>\n",
       "      <th>OdoBin</th>\n",
       "      <th>MMRBin</th>\n",
       "      <th>WarrantyBin</th>\n",
       "      <th>CostBin</th>\n",
       "    </tr>\n",
       "  </thead>\n",
       "  <tbody>\n",
       "    <tr>\n",
       "      <td>0</td>\n",
       "      <td>1</td>\n",
       "      <td>1</td>\n",
       "      <td>2008</td>\n",
       "      <td>2</td>\n",
       "      <td>KIA</td>\n",
       "      <td>EX</td>\n",
       "      <td>BLUE</td>\n",
       "      <td>2</td>\n",
       "      <td>2.0</td>\n",
       "      <td>2</td>\n",
       "      <td>1</td>\n",
       "      <td>FL</td>\n",
       "      <td>0</td>\n",
       "      <td>7</td>\n",
       "      <td>7</td>\n",
       "      <td>0</td>\n",
       "      <td>6</td>\n",
       "    </tr>\n",
       "    <tr>\n",
       "      <td>1</td>\n",
       "      <td>0</td>\n",
       "      <td>2</td>\n",
       "      <td>2006</td>\n",
       "      <td>3</td>\n",
       "      <td>DODGE</td>\n",
       "      <td>SXT</td>\n",
       "      <td>SILVER</td>\n",
       "      <td>2</td>\n",
       "      <td>2.0</td>\n",
       "      <td>1</td>\n",
       "      <td>1</td>\n",
       "      <td>FL</td>\n",
       "      <td>0</td>\n",
       "      <td>11</td>\n",
       "      <td>5</td>\n",
       "      <td>7</td>\n",
       "      <td>3</td>\n",
       "    </tr>\n",
       "    <tr>\n",
       "      <td>2</td>\n",
       "      <td>0</td>\n",
       "      <td>3</td>\n",
       "      <td>2008</td>\n",
       "      <td>2</td>\n",
       "      <td>DODGE</td>\n",
       "      <td>SE</td>\n",
       "      <td>BLACK</td>\n",
       "      <td>2</td>\n",
       "      <td>2.0</td>\n",
       "      <td>1</td>\n",
       "      <td>1</td>\n",
       "      <td>OK</td>\n",
       "      <td>0</td>\n",
       "      <td>5</td>\n",
       "      <td>8</td>\n",
       "      <td>1</td>\n",
       "      <td>8</td>\n",
       "    </tr>\n",
       "    <tr>\n",
       "      <td>3</td>\n",
       "      <td>0</td>\n",
       "      <td>3</td>\n",
       "      <td>2005</td>\n",
       "      <td>4</td>\n",
       "      <td>FORD</td>\n",
       "      <td>S</td>\n",
       "      <td>BROWN</td>\n",
       "      <td>2</td>\n",
       "      <td>2.0</td>\n",
       "      <td>1</td>\n",
       "      <td>1</td>\n",
       "      <td>AZ</td>\n",
       "      <td>0</td>\n",
       "      <td>10</td>\n",
       "      <td>4</td>\n",
       "      <td>7</td>\n",
       "      <td>4</td>\n",
       "    </tr>\n",
       "    <tr>\n",
       "      <td>4</td>\n",
       "      <td>0</td>\n",
       "      <td>2</td>\n",
       "      <td>2005</td>\n",
       "      <td>4</td>\n",
       "      <td>CHRYSLER</td>\n",
       "      <td>Bas</td>\n",
       "      <td>BLUE</td>\n",
       "      <td>2</td>\n",
       "      <td>1.0</td>\n",
       "      <td>1</td>\n",
       "      <td>1</td>\n",
       "      <td>TX</td>\n",
       "      <td>0</td>\n",
       "      <td>9</td>\n",
       "      <td>5</td>\n",
       "      <td>7</td>\n",
       "      <td>5</td>\n",
       "    </tr>\n",
       "  </tbody>\n",
       "</table>\n",
       "</div>"
      ],
      "text/plain": [
       "   IsBadBuy  Auction  VehYear  VehicleAge      Make Trim   Color  \\\n",
       "0         1        1     2008           2       KIA   EX    BLUE   \n",
       "1         0        2     2006           3     DODGE  SXT  SILVER   \n",
       "2         0        3     2008           2     DODGE   SE   BLACK   \n",
       "3         0        3     2005           4      FORD    S   BROWN   \n",
       "4         0        2     2005           4  CHRYSLER  Bas    BLUE   \n",
       "\n",
       "   Transmission  WheelTypeID  Nationality  Size VNST  IsOnlineSale  OdoBin  \\\n",
       "0             2          2.0            2     1   FL             0       7   \n",
       "1             2          2.0            1     1   FL             0      11   \n",
       "2             2          2.0            1     1   OK             0       5   \n",
       "3             2          2.0            1     1   AZ             0      10   \n",
       "4             2          1.0            1     1   TX             0       9   \n",
       "\n",
       "   MMRBin  WarrantyBin  CostBin  \n",
       "0       7            0        6  \n",
       "1       5            7        3  \n",
       "2       8            1        8  \n",
       "3       4            7        4  \n",
       "4       5            7        5  "
      ]
     },
     "execution_count": 3,
     "metadata": {},
     "output_type": "execute_result"
    }
   ],
   "source": [
    "df['OdoBin'] = pd.cut(df['VehOdo'].astype(int), 15, right=False).cat.codes\n",
    "df['MMRBin'] = pd.cut(df['MMRAcquisitionAuctionAveragePrice'], 15, right=False).cat.codes\n",
    "df['WarrantyBin'] = pd.cut(df['WarrantyCost'], 15, right=False).cat.codes\n",
    "df['CostBin'] = pd.cut(df['VehBCost'], 15, right=False).cat.codes\n",
    "\n",
    "df.drop(['VehOdo', 'WarrantyCost', 'VehBCost', 'MMRAcquisitionAuctionAveragePrice', 'MMRCurrentAuctionAveragePrice', 'RoundVehBCost', 'Unnamed: 0'], axis=1, inplace=True)\n",
    "\n",
    "df.head()"
   ]
  },
  {
   "cell_type": "code",
   "execution_count": 4,
   "metadata": {
    "scrolled": true
   },
   "outputs": [
    {
     "data": {
      "text/html": [
       "<div>\n",
       "<style scoped>\n",
       "    .dataframe tbody tr th:only-of-type {\n",
       "        vertical-align: middle;\n",
       "    }\n",
       "\n",
       "    .dataframe tbody tr th {\n",
       "        vertical-align: top;\n",
       "    }\n",
       "\n",
       "    .dataframe thead th {\n",
       "        text-align: right;\n",
       "    }\n",
       "</style>\n",
       "<table border=\"1\" class=\"dataframe\">\n",
       "  <thead>\n",
       "    <tr style=\"text-align: right;\">\n",
       "      <th></th>\n",
       "      <th>IsBadBuy</th>\n",
       "      <th>Auction</th>\n",
       "      <th>VehYear</th>\n",
       "      <th>VehicleAge</th>\n",
       "      <th>Make</th>\n",
       "      <th>Trim</th>\n",
       "      <th>Color</th>\n",
       "      <th>Transmission</th>\n",
       "      <th>WheelTypeID</th>\n",
       "      <th>Nationality</th>\n",
       "      <th>Size</th>\n",
       "      <th>VNST</th>\n",
       "      <th>IsOnlineSale</th>\n",
       "      <th>OdoBin</th>\n",
       "      <th>MMRBin</th>\n",
       "      <th>WarrantyBin</th>\n",
       "      <th>CostBin</th>\n",
       "    </tr>\n",
       "  </thead>\n",
       "  <tbody>\n",
       "    <tr>\n",
       "      <td>0</td>\n",
       "      <td>0</td>\n",
       "      <td>2</td>\n",
       "      <td>2003</td>\n",
       "      <td>7</td>\n",
       "      <td>CHEVROLET</td>\n",
       "      <td>150</td>\n",
       "      <td>BLUE</td>\n",
       "      <td>2</td>\n",
       "      <td>1.0</td>\n",
       "      <td>1</td>\n",
       "      <td>2</td>\n",
       "      <td>AZ</td>\n",
       "      <td>0</td>\n",
       "      <td>[70716.0, 77606.0)</td>\n",
       "      <td>[7692.067, 8507.2)</td>\n",
       "      <td>[1552.6, 1708.4)</td>\n",
       "      <td>[10885.667, 11509.215)</td>\n",
       "    </tr>\n",
       "    <tr>\n",
       "      <td>1</td>\n",
       "      <td>0</td>\n",
       "      <td>3</td>\n",
       "      <td>2006</td>\n",
       "      <td>4</td>\n",
       "      <td>FORD</td>\n",
       "      <td>Bas</td>\n",
       "      <td>BLACK</td>\n",
       "      <td>1</td>\n",
       "      <td>1.0</td>\n",
       "      <td>1</td>\n",
       "      <td>4</td>\n",
       "      <td>NC</td>\n",
       "      <td>0</td>\n",
       "      <td>[70716.0, 77606.0)</td>\n",
       "      <td>[8507.2, 9322.333)</td>\n",
       "      <td>[773.6, 929.4)</td>\n",
       "      <td>[7199.667, 7814.0)</td>\n",
       "    </tr>\n",
       "    <tr>\n",
       "      <td>2</td>\n",
       "      <td>0</td>\n",
       "      <td>2</td>\n",
       "      <td>2004</td>\n",
       "      <td>5</td>\n",
       "      <td>DODGE</td>\n",
       "      <td>ES</td>\n",
       "      <td>WHITE</td>\n",
       "      <td>2</td>\n",
       "      <td>1.0</td>\n",
       "      <td>1</td>\n",
       "      <td>1</td>\n",
       "      <td>AZ</td>\n",
       "      <td>0</td>\n",
       "      <td>[70716.0, 77606.0)</td>\n",
       "      <td>[2801.267, 3616.4)</td>\n",
       "      <td>[1241.0, 1396.8)</td>\n",
       "      <td>[5356.667, 5971.0)</td>\n",
       "    </tr>\n",
       "    <tr>\n",
       "      <td>3</td>\n",
       "      <td>0</td>\n",
       "      <td>3</td>\n",
       "      <td>2004</td>\n",
       "      <td>6</td>\n",
       "      <td>HYUNDAI</td>\n",
       "      <td>Bas</td>\n",
       "      <td>BLUE</td>\n",
       "      <td>1</td>\n",
       "      <td>1.0</td>\n",
       "      <td>2</td>\n",
       "      <td>4</td>\n",
       "      <td>CO</td>\n",
       "      <td>0</td>\n",
       "      <td>[77606.0, 84496.0)</td>\n",
       "      <td>[3616.4, 4431.533)</td>\n",
       "      <td>[773.6, 929.4)</td>\n",
       "      <td>[4742.333, 5356.667)</td>\n",
       "    </tr>\n",
       "    <tr>\n",
       "      <td>4</td>\n",
       "      <td>0</td>\n",
       "      <td>2</td>\n",
       "      <td>2004</td>\n",
       "      <td>5</td>\n",
       "      <td>CHEVROLET</td>\n",
       "      <td>Nor</td>\n",
       "      <td>GREEN</td>\n",
       "      <td>2</td>\n",
       "      <td>1.0</td>\n",
       "      <td>1</td>\n",
       "      <td>1</td>\n",
       "      <td>CO</td>\n",
       "      <td>0</td>\n",
       "      <td>[77606.0, 84496.0)</td>\n",
       "      <td>[6061.8, 6876.933)</td>\n",
       "      <td>[1085.2, 1241.0)</td>\n",
       "      <td>[6585.333, 7199.667)</td>\n",
       "    </tr>\n",
       "  </tbody>\n",
       "</table>\n",
       "</div>"
      ],
      "text/plain": [
       "   IsBadBuy  Auction  VehYear  VehicleAge       Make Trim  Color  \\\n",
       "0         0        2     2003           7  CHEVROLET  150   BLUE   \n",
       "1         0        3     2006           4       FORD  Bas  BLACK   \n",
       "2         0        2     2004           5      DODGE   ES  WHITE   \n",
       "3         0        3     2004           6    HYUNDAI  Bas   BLUE   \n",
       "4         0        2     2004           5  CHEVROLET  Nor  GREEN   \n",
       "\n",
       "   Transmission  WheelTypeID  Nationality  Size VNST  IsOnlineSale  \\\n",
       "0             2          1.0            1     2   AZ             0   \n",
       "1             1          1.0            1     4   NC             0   \n",
       "2             2          1.0            1     1   AZ             0   \n",
       "3             1          1.0            2     4   CO             0   \n",
       "4             2          1.0            1     1   CO             0   \n",
       "\n",
       "               OdoBin              MMRBin       WarrantyBin  \\\n",
       "0  [70716.0, 77606.0)  [7692.067, 8507.2)  [1552.6, 1708.4)   \n",
       "1  [70716.0, 77606.0)  [8507.2, 9322.333)    [773.6, 929.4)   \n",
       "2  [70716.0, 77606.0)  [2801.267, 3616.4)  [1241.0, 1396.8)   \n",
       "3  [77606.0, 84496.0)  [3616.4, 4431.533)    [773.6, 929.4)   \n",
       "4  [77606.0, 84496.0)  [6061.8, 6876.933)  [1085.2, 1241.0)   \n",
       "\n",
       "                  CostBin  \n",
       "0  [10885.667, 11509.215)  \n",
       "1      [7199.667, 7814.0)  \n",
       "2      [5356.667, 5971.0)  \n",
       "3    [4742.333, 5356.667)  \n",
       "4    [6585.333, 7199.667)  "
      ]
     },
     "execution_count": 4,
     "metadata": {},
     "output_type": "execute_result"
    }
   ],
   "source": [
    "df2['OdoBin'] = pd.cut(df2['VehOdo'].astype(int), 15, right=False)\n",
    "df2['MMRBin'] = pd.cut(df2['MMRAcquisitionAuctionAveragePrice'], 15, right=False)\n",
    "df2['WarrantyBin'] = pd.cut(df2['WarrantyCost'], 15, right=False)\n",
    "df2['CostBin'] = pd.cut(df2['VehBCost'], 15, right=False)\n",
    "\n",
    "df2.drop(['VehOdo', 'WarrantyCost', 'VehBCost', 'MMRAcquisitionAuctionAveragePrice', 'MMRCurrentAuctionAveragePrice', 'RoundVehBCost', 'Unnamed: 0'], axis=1, inplace=True)\n",
    "\n",
    "df2.head()"
   ]
  },
  {
   "cell_type": "code",
   "execution_count": 5,
   "metadata": {},
   "outputs": [],
   "source": [
    "df = df.dropna()"
   ]
  },
  {
   "cell_type": "code",
   "execution_count": 6,
   "metadata": {},
   "outputs": [],
   "source": [
    "attributes = [col for col in df.columns if \n",
    "              col == 'VehicleAge' \n",
    "              or col == 'Transmission' \n",
    "              or col == 'WheelTypeID' \n",
    "              or col == 'Nationality' \n",
    "              or col == 'Size'\n",
    "              #or col == 'OdoBin'\n",
    "              #or col == 'MMRBin'\n",
    "              #or col == 'CostBin'\n",
    "             ]\n",
    "#classes = [col for col in df.columns if col == 'IsBadBuy']\n",
    "X = df[attributes].values\n",
    "y = df['IsBadBuy']"
   ]
  },
  {
   "cell_type": "code",
   "execution_count": 7,
   "metadata": {},
   "outputs": [
    {
     "data": {
      "text/plain": [
       "VehicleAge      0\n",
       "Transmission    0\n",
       "WheelTypeID     0\n",
       "Nationality     0\n",
       "Size            0\n",
       "dtype: int64"
      ]
     },
     "execution_count": 7,
     "metadata": {},
     "output_type": "execute_result"
    }
   ],
   "source": [
    "df[attributes].isnull().sum()"
   ]
  },
  {
   "cell_type": "code",
   "execution_count": 8,
   "metadata": {},
   "outputs": [],
   "source": [
    "from sklearn.ensemble import RandomForestClassifier\n",
    "from sklearn.model_selection import cross_val_score"
   ]
  },
  {
   "cell_type": "code",
   "execution_count": 9,
   "metadata": {},
   "outputs": [],
   "source": [
    "attributes2 = [col for col in df.columns if \n",
    "              col == 'VehicleAge' \n",
    "              or col == 'Transmission' \n",
    "              or col == 'WheelTypeID' \n",
    "              or col == 'Nationality' \n",
    "              or col == 'Size'\n",
    "             ]\n",
    "#classes = [col for col in df.columns if col == 'IsBadBuy']\n",
    "X_test = df[attributes2].values\n",
    "y_test = df['IsBadBuy']"
   ]
  },
  {
   "cell_type": "code",
   "execution_count": 10,
   "metadata": {},
   "outputs": [
    {
     "data": {
      "text/plain": [
       "RandomForestClassifier(bootstrap=True, class_weight=None, criterion='gini',\n",
       "                       max_depth=None, max_features='auto', max_leaf_nodes=None,\n",
       "                       min_impurity_decrease=0.0, min_impurity_split=None,\n",
       "                       min_samples_leaf=1, min_samples_split=2,\n",
       "                       min_weight_fraction_leaf=0.0, n_estimators=100,\n",
       "                       n_jobs=None, oob_score=False, random_state=None,\n",
       "                       verbose=0, warm_start=False)"
      ]
     },
     "execution_count": 10,
     "metadata": {},
     "output_type": "execute_result"
    }
   ],
   "source": [
    "clf = RandomForestClassifier(n_estimators=100, criterion='gini', max_depth=None, \n",
    "                             min_samples_split=2, min_samples_leaf=1, class_weight=None)\n",
    "\n",
    "\n",
    "clf.fit(X, y)\n",
    "#report(random_search.cv_results_, n_top=3)"
   ]
  },
  {
   "cell_type": "code",
   "execution_count": 11,
   "metadata": {},
   "outputs": [],
   "source": [
    "import pydotplus\n",
    "from sklearn import tree\n",
    "from IPython.display import Image"
   ]
  },
  {
   "cell_type": "code",
   "execution_count": 12,
   "metadata": {},
   "outputs": [],
   "source": [
    "from sklearn.metrics import accuracy_score, f1_score, classification_report\n",
    "from sklearn.metrics import roc_curve, auc, roc_auc_score\n",
    "from sklearn.metrics import confusion_matrix"
   ]
  },
  {
   "cell_type": "code",
   "execution_count": 13,
   "metadata": {},
   "outputs": [],
   "source": [
    "y_pred = clf.predict(X_test)"
   ]
  },
  {
   "cell_type": "code",
   "execution_count": 14,
   "metadata": {},
   "outputs": [
    {
     "name": "stdout",
     "output_type": "stream",
     "text": [
      "Test Accuracy 0.905486752808558\n",
      "Test F1-score [0.95035947 0.01596806]\n",
      "              precision    recall  f1-score   support\n",
      "\n",
      "           0       0.91      1.00      0.95     47210\n",
      "           1       0.69      0.01      0.02      4952\n",
      "\n",
      "    accuracy                           0.91     52162\n",
      "   macro avg       0.80      0.50      0.48     52162\n",
      "weighted avg       0.89      0.91      0.86     52162\n",
      "\n"
     ]
    },
    {
     "data": {
      "text/plain": [
       "array([[47192,    18],\n",
       "       [ 4912,    40]])"
      ]
     },
     "execution_count": 14,
     "metadata": {},
     "output_type": "execute_result"
    }
   ],
   "source": [
    "print('Test Accuracy %s' % accuracy_score(y_test, y_pred))\n",
    "print('Test F1-score %s' % f1_score(y_test, y_pred, average=None))\n",
    "print(classification_report(y_test, y_pred))\n",
    "confusion_matrix(y_test, y_pred)"
   ]
  },
  {
   "cell_type": "code",
   "execution_count": 15,
   "metadata": {},
   "outputs": [
    {
     "name": "stdout",
     "output_type": "stream",
     "text": [
      "0.5038481346364626\n"
     ]
    },
    {
     "data": {
      "text/plain": [
       "0.5038481346364626"
      ]
     },
     "execution_count": 15,
     "metadata": {},
     "output_type": "execute_result"
    }
   ],
   "source": [
    "fpr, tpr, _ = roc_curve(y_test, y_pred)\n",
    "roc_auc = auc(fpr, tpr)\n",
    "print(roc_auc)\n",
    "\n",
    "roc_auc = roc_auc_score(y_test, y_pred, average=None)\n",
    "roc_auc"
   ]
  },
  {
   "cell_type": "code",
   "execution_count": 20,
   "metadata": {},
   "outputs": [
    {
     "data": {
      "image/png": "[encoded data removed]",
      "text/plain": [
       "<Figure size 576x360 with 1 Axes>"
      ]
     },
     "metadata": {
      "needs_background": "light"
     },
     "output_type": "display_data"
    }
   ],
   "source": [
    "plt.figure(figsize=(8, 5))\n",
    "plt.plot(fpr, tpr, label='ROC curve (area = %0.2f)' % (roc_auc))\n",
    "    \n",
    "plt.plot([0, 1], [0, 1], 'k--')\n",
    "plt.xlim([0.0, 0.05])\n",
    "plt.ylim([0.0, 0.05])\n",
    "plt.xlabel('False Positive Rate', fontsize=20)\n",
    "plt.ylabel('True Positive Rate', fontsize=20) \n",
    "plt.tick_params(axis='both', which='major', labelsize=22)\n",
    "plt.legend(loc=\"lower right\", fontsize=14, frameon=False)\n",
    "plt.show()"
   ]
  },
  {
   "cell_type": "code",
   "execution_count": null,
   "metadata": {},
   "outputs": [],
   "source": []
  }
 ],
 "metadata": {
  "kernelspec": {
   "display_name": "Python 3 (ipykernel)",
   "language": "python",
   "name": "python3"
  },
  "language_info": {
   "codemirror_mode": {
    "name": "ipython",
    "version": 3
   },
   "file_extension": ".py",
   "mimetype": "text/x-python",
   "name": "python",
   "nbconvert_exporter": "python",
   "pygments_lexer": "ipython3",
   "version": "3.9.7"
  }
 },
 "nbformat": 4,
 "nbformat_minor": 2
}
